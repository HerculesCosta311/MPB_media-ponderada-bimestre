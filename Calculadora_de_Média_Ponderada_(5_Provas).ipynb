{
  "nbformat": 4,
  "nbformat_minor": 0,
  "metadata": {
    "colab": {
      "provenance": []
    },
    "kernelspec": {
      "name": "python3",
      "display_name": "Python 3"
    },
    "language_info": {
      "name": "python"
    }
  },
  "cells": [
    {
      "cell_type": "code",
      "execution_count": 13,
      "metadata": {
        "id": "AQzIkur47jBn",
        "colab": {
          "base_uri": "https://localhost:8080/"
        },
        "outputId": "1771ff78-82de-41f3-d130-c88348286cbe"
      },
      "outputs": [
        {
          "output_type": "stream",
          "name": "stdout",
          "text": [
            "Quantidade de Alunos 1\n",
            "\n",
            "\t Cadastro dos Alunos 1\n",
            "Nome do Aluno: paula\n",
            "Sobrenome do Aluno: dentro\n",
            "\n",
            "Prova 1\n",
            "Número Acertos (0 a 5): 4\n",
            "\n",
            "Prova 2\n",
            "Número Acertos (0 a 5): 1\n",
            "\n",
            "Prova 3\n",
            "Número Acertos (0 a 5): 2\n",
            "\n",
            "Prova 4\n",
            "Número Acertos (0 a 5): 1\n",
            "\n",
            "Prova 5\n",
            "Número Acertos (0 a 5): 1\n",
            "\n",
            "\tResultado Final\n",
            "Aluno: paula dentro\n",
            "Nota Final: 3.60 / 10.00\n",
            "Aproveitamento: 36.00%\n",
            "Situação: Reprovado\n",
            "\n",
            "\tResumo da Turma\n",
            "paula dentro - Nota: 3.6 - Aproveitamento: 36.0% - Reprovado\n"
          ]
        }
      ],
      "source": [
        "alunos = []                                                                     # Primeiramente criar a lista vazia de alunos pra não dar ruim\n",
        "\n",
        "                                                                                # Aqui você escolhe a quantidade de alunos, para teste recomendo apenas 2\n",
        "quantidade_alunos = int(input(\"Quantidade de Alunos \"))\n",
        "\n",
        "                                                                                # Aqui o laço vai ser repetir chegar a quantidade de alunos definida\n",
        "for aluno_ind in range(quantidade_alunos):\n",
        "    print(f\"\\n\\t Cadastro dos Alunos {aluno_ind + 1}\")                          #f é mais pratico para ler strings no caso o indice + 1\n",
        "\n",
        "                                                                                # Informações do Aluno\n",
        "    nome = input(\"Nome do Aluno: \")\n",
        "    sobrenome = input(\"Sobrenome do Aluno: \")\n",
        "    nome_completo = nome + \" \" + sobrenome                                      #Facilita lá na frente pra ler uma string de uma só vez\n",
        "\n",
        "                                                                                # Variáveis individuais do aluno\n",
        "    total_questoes = 5 * 5                                                      # 5 provas, 5 questões cada\n",
        "    total_acertos = 0\n",
        "    nota_total = 0\n",
        "    provas = []                                                                 #Agora criamos a lista de provas vazia\n",
        "\n",
        "    for i in range(1, 6):                                                       # Loop das 5 provas teminando em 6 pq pytohn começa lendo do zero\n",
        "        print(f\"\\nProva {i}\")\n",
        "\n",
        "        while True:                                                             #Definindo um limite de pontos por acertos, para não quebrar meu código lindo\n",
        "            acertos = int(input(\"Número Acertos (0 a 5): \"))\n",
        "            if 0 <= acertos <= 5:                                               #O laço principal é o for para você escrever 5 vezes os pontos usando o range para contar a provas\n",
        "                break\n",
        "            else:\n",
        "                print(\"Errou! Máximo de acertos só entre 0 e 5.\")\n",
        "\n",
        "        peso_fixo = 2.0                                                         # Cada prova vale 2 pontos\n",
        "        nota = acertos * 0.4                                                    # Cada acerto vale 0.4 → 5 acertos = 2.0\n",
        "\n",
        "        total_acertos += acertos                                                #Agora usamos aquelas duas variáveis vazias no começo\n",
        "        nota_total += nota\n",
        "\n",
        "        provas.append({                                                         #Agora aquela lista vazia do provas está sendo usada\n",
        "            \"Prova\": f\"Prova {i}\",\n",
        "            \"Acertos\": acertos,\n",
        "            \"Nota\": round(nota, 2)\n",
        "        })\n",
        "\n",
        "                                                                                # Cálculos finais do aluno\n",
        "    media_final = nota_total                                                    # Total de pontos (máximo 10)\n",
        "    aproveitamento = (total_acertos / total_questoes) * 100                     # Aqui é só um calculo do aproveitamento da aula em porcentagem\n",
        "    situacao = \"Aprovado\" if media_final >= 6 else \"Reprovado\"\n",
        "\n",
        "                                                                                # Exibir resultado individual\n",
        "    print(\"\\n\\tResultado Final\")\n",
        "    print(f\"Aluno: {nome_completo}\")\n",
        "    print(f\"Nota Final: {media_final:.2f} / 10.00\")                             # O :.2f formata o número com 2 casas decimais, só na hora de exibir, sem mudar o valor real armazenado na memória.\n",
        "    print(f\"Aproveitamento: {aproveitamento:.2f}%\")\n",
        "    print(f\"Situação: {situacao}\")\n",
        "\n",
        "\n",
        "    alunos.append({                                                             # Agora sim depois de criar todo processo de cadastrao adcionamos tudo isso a lista vazia lá de cima\n",
        "        \"Nome Completo\": nome_completo,\n",
        "        \"Nota Final\": round(media_final, 2),                                    #O round aqui é semelhante ao f, a diferença é que round armazena a nota arredondada como número, é eu sei, mas isso realmente faz diferença.\n",
        "        \"Aproveitamento (%)\": round(aproveitamento, 2),\n",
        "        \"Situação\": situacao\n",
        "    })\n",
        "\n",
        "                                                                                # Resumo geral da turma\n",
        "print(\"\\n\\tResumo da Turma\")\n",
        "for aluno in alunos:\n",
        "    print(f\"{aluno['Nome Completo']} - Nota: {aluno['Nota Final']} - Aproveitamento: {aluno['Aproveitamento (%)']}% - {aluno['Situação']}\")\n"
      ]
    }
  ]
}